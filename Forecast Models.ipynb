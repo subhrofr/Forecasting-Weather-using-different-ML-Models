{
 "cells": [
  {
   "cell_type": "markdown",
   "id": "e1f99117",
   "metadata": {
    "papermill": {
     "duration": 0.018583,
     "end_time": "2022-01-17T18:28:23.555057",
     "exception": false,
     "start_time": "2022-01-17T18:28:23.536474",
     "status": "completed"
    },
    "tags": []
   },
   "source": [
    "# **Weather Forecasting**\n",
    "\n",
    "Importing some important utilities!"
   ]
  },
  {
   "cell_type": "code",
   "execution_count": 1,
   "id": "7f3b5a08",
   "metadata": {
    "_cell_guid": "b1076dfc-b9ad-4769-8c92-a6c4dae69d19",
    "_uuid": "8f2839f25d086af736a60e9eeb907d3b93b6e0e5",
    "execution": {
     "iopub.execute_input": "2022-01-17T18:28:23.593738Z",
     "iopub.status.busy": "2022-01-17T18:28:23.592438Z",
     "iopub.status.idle": "2022-01-17T18:28:24.680688Z",
     "shell.execute_reply": "2022-01-17T18:28:24.679970Z",
     "shell.execute_reply.started": "2022-01-17T18:26:27.782932Z"
    },
    "papermill": {
     "duration": 1.10893,
     "end_time": "2022-01-17T18:28:24.680910",
     "exception": false,
     "start_time": "2022-01-17T18:28:23.571980",
     "status": "completed"
    },
    "tags": []
   },
   "outputs": [
    {
     "name": "stdout",
     "output_type": "stream",
     "text": [
      "/kaggle/input/weather-prediction/seattle-weather.csv\n"
     ]
    }
   ],
   "source": [
    "import numpy as np \n",
    "import pandas as pd \n",
    "import matplotlib.pyplot as plt\n",
    "import seaborn as sns\n",
    "\n",
    "\n",
    "import os\n",
    "for dirname, _, filenames in os.walk('/kaggle/input'):\n",
    "    for filename in filenames:\n",
    "        print(os.path.join(dirname, filename))"
   ]
  },
  {
   "cell_type": "code",
   "execution_count": 2,
   "id": "a0a15ca8",
   "metadata": {
    "execution": {
     "iopub.execute_input": "2022-01-17T18:28:24.720626Z",
     "iopub.status.busy": "2022-01-17T18:28:24.719926Z",
     "iopub.status.idle": "2022-01-17T18:28:24.738484Z",
     "shell.execute_reply": "2022-01-17T18:28:24.737856Z",
     "shell.execute_reply.started": "2022-01-17T18:26:28.020077Z"
    },
    "papermill": {
     "duration": 0.040304,
     "end_time": "2022-01-17T18:28:24.738646",
     "exception": false,
     "start_time": "2022-01-17T18:28:24.698342",
     "status": "completed"
    },
    "tags": []
   },
   "outputs": [],
   "source": [
    "df=pd.read_csv(\"../input/weather-prediction/seattle-weather.csv\")"
   ]
  },
  {
   "cell_type": "markdown",
   "id": "22850560",
   "metadata": {
    "papermill": {
     "duration": 0.0164,
     "end_time": "2022-01-17T18:28:24.771982",
     "exception": false,
     "start_time": "2022-01-17T18:28:24.755582",
     "status": "completed"
    },
    "tags": []
   },
   "source": [
    "Checking whether the dataset got imported to the notebook."
   ]
  },
  {
   "cell_type": "code",
   "execution_count": 3,
   "id": "8338073a",
   "metadata": {
    "execution": {
     "iopub.execute_input": "2022-01-17T18:28:24.809039Z",
     "iopub.status.busy": "2022-01-17T18:28:24.808356Z",
     "iopub.status.idle": "2022-01-17T18:28:24.815963Z",
     "shell.execute_reply": "2022-01-17T18:28:24.816486Z",
     "shell.execute_reply.started": "2022-01-17T18:26:28.431264Z"
    },
    "papermill": {
     "duration": 0.027906,
     "end_time": "2022-01-17T18:28:24.816651",
     "exception": false,
     "start_time": "2022-01-17T18:28:24.788745",
     "status": "completed"
    },
    "tags": []
   },
   "outputs": [
    {
     "data": {
      "text/plain": [
       "(1461, 6)"
      ]
     },
     "execution_count": 3,
     "metadata": {},
     "output_type": "execute_result"
    }
   ],
   "source": [
    "df.shape"
   ]
  },
  {
   "cell_type": "code",
   "execution_count": 4,
   "id": "3b296fa7",
   "metadata": {
    "execution": {
     "iopub.execute_input": "2022-01-17T18:28:24.854271Z",
     "iopub.status.busy": "2022-01-17T18:28:24.853574Z",
     "iopub.status.idle": "2022-01-17T18:28:24.873794Z",
     "shell.execute_reply": "2022-01-17T18:28:24.874328Z",
     "shell.execute_reply.started": "2022-01-17T18:26:28.655704Z"
    },
    "papermill": {
     "duration": 0.040555,
     "end_time": "2022-01-17T18:28:24.874504",
     "exception": false,
     "start_time": "2022-01-17T18:28:24.833949",
     "status": "completed"
    },
    "tags": []
   },
   "outputs": [
    {
     "data": {
      "text/html": [
       "<div>\n",
       "<style scoped>\n",
       "    .dataframe tbody tr th:only-of-type {\n",
       "        vertical-align: middle;\n",
       "    }\n",
       "\n",
       "    .dataframe tbody tr th {\n",
       "        vertical-align: top;\n",
       "    }\n",
       "\n",
       "    .dataframe thead th {\n",
       "        text-align: right;\n",
       "    }\n",
       "</style>\n",
       "<table border=\"1\" class=\"dataframe\">\n",
       "  <thead>\n",
       "    <tr style=\"text-align: right;\">\n",
       "      <th></th>\n",
       "      <th>date</th>\n",
       "      <th>precipitation</th>\n",
       "      <th>temp_max</th>\n",
       "      <th>temp_min</th>\n",
       "      <th>wind</th>\n",
       "      <th>weather</th>\n",
       "    </tr>\n",
       "  </thead>\n",
       "  <tbody>\n",
       "    <tr>\n",
       "      <th>0</th>\n",
       "      <td>2012-01-01</td>\n",
       "      <td>0.0</td>\n",
       "      <td>12.8</td>\n",
       "      <td>5.0</td>\n",
       "      <td>4.7</td>\n",
       "      <td>drizzle</td>\n",
       "    </tr>\n",
       "    <tr>\n",
       "      <th>1</th>\n",
       "      <td>2012-01-02</td>\n",
       "      <td>10.9</td>\n",
       "      <td>10.6</td>\n",
       "      <td>2.8</td>\n",
       "      <td>4.5</td>\n",
       "      <td>rain</td>\n",
       "    </tr>\n",
       "    <tr>\n",
       "      <th>2</th>\n",
       "      <td>2012-01-03</td>\n",
       "      <td>0.8</td>\n",
       "      <td>11.7</td>\n",
       "      <td>7.2</td>\n",
       "      <td>2.3</td>\n",
       "      <td>rain</td>\n",
       "    </tr>\n",
       "    <tr>\n",
       "      <th>3</th>\n",
       "      <td>2012-01-04</td>\n",
       "      <td>20.3</td>\n",
       "      <td>12.2</td>\n",
       "      <td>5.6</td>\n",
       "      <td>4.7</td>\n",
       "      <td>rain</td>\n",
       "    </tr>\n",
       "    <tr>\n",
       "      <th>4</th>\n",
       "      <td>2012-01-05</td>\n",
       "      <td>1.3</td>\n",
       "      <td>8.9</td>\n",
       "      <td>2.8</td>\n",
       "      <td>6.1</td>\n",
       "      <td>rain</td>\n",
       "    </tr>\n",
       "  </tbody>\n",
       "</table>\n",
       "</div>"
      ],
      "text/plain": [
       "         date  precipitation  temp_max  temp_min  wind  weather\n",
       "0  2012-01-01            0.0      12.8       5.0   4.7  drizzle\n",
       "1  2012-01-02           10.9      10.6       2.8   4.5     rain\n",
       "2  2012-01-03            0.8      11.7       7.2   2.3     rain\n",
       "3  2012-01-04           20.3      12.2       5.6   4.7     rain\n",
       "4  2012-01-05            1.3       8.9       2.8   6.1     rain"
      ]
     },
     "execution_count": 4,
     "metadata": {},
     "output_type": "execute_result"
    }
   ],
   "source": [
    "df.head()"
   ]
  },
  {
   "cell_type": "code",
   "execution_count": 5,
   "id": "9e31c1ae",
   "metadata": {
    "execution": {
     "iopub.execute_input": "2022-01-17T18:28:24.915262Z",
     "iopub.status.busy": "2022-01-17T18:28:24.914568Z",
     "iopub.status.idle": "2022-01-17T18:28:24.945122Z",
     "shell.execute_reply": "2022-01-17T18:28:24.945644Z",
     "shell.execute_reply.started": "2022-01-17T18:26:28.863043Z"
    },
    "papermill": {
     "duration": 0.052648,
     "end_time": "2022-01-17T18:28:24.945844",
     "exception": false,
     "start_time": "2022-01-17T18:28:24.893196",
     "status": "completed"
    },
    "tags": []
   },
   "outputs": [
    {
     "data": {
      "text/html": [
       "<div>\n",
       "<style scoped>\n",
       "    .dataframe tbody tr th:only-of-type {\n",
       "        vertical-align: middle;\n",
       "    }\n",
       "\n",
       "    .dataframe tbody tr th {\n",
       "        vertical-align: top;\n",
       "    }\n",
       "\n",
       "    .dataframe thead th {\n",
       "        text-align: right;\n",
       "    }\n",
       "</style>\n",
       "<table border=\"1\" class=\"dataframe\">\n",
       "  <thead>\n",
       "    <tr style=\"text-align: right;\">\n",
       "      <th></th>\n",
       "      <th>precipitation</th>\n",
       "      <th>temp_max</th>\n",
       "      <th>temp_min</th>\n",
       "      <th>wind</th>\n",
       "    </tr>\n",
       "  </thead>\n",
       "  <tbody>\n",
       "    <tr>\n",
       "      <th>count</th>\n",
       "      <td>1461.000000</td>\n",
       "      <td>1461.000000</td>\n",
       "      <td>1461.000000</td>\n",
       "      <td>1461.000000</td>\n",
       "    </tr>\n",
       "    <tr>\n",
       "      <th>mean</th>\n",
       "      <td>3.029432</td>\n",
       "      <td>16.439083</td>\n",
       "      <td>8.234771</td>\n",
       "      <td>3.241136</td>\n",
       "    </tr>\n",
       "    <tr>\n",
       "      <th>std</th>\n",
       "      <td>6.680194</td>\n",
       "      <td>7.349758</td>\n",
       "      <td>5.023004</td>\n",
       "      <td>1.437825</td>\n",
       "    </tr>\n",
       "    <tr>\n",
       "      <th>min</th>\n",
       "      <td>0.000000</td>\n",
       "      <td>-1.600000</td>\n",
       "      <td>-7.100000</td>\n",
       "      <td>0.400000</td>\n",
       "    </tr>\n",
       "    <tr>\n",
       "      <th>25%</th>\n",
       "      <td>0.000000</td>\n",
       "      <td>10.600000</td>\n",
       "      <td>4.400000</td>\n",
       "      <td>2.200000</td>\n",
       "    </tr>\n",
       "    <tr>\n",
       "      <th>50%</th>\n",
       "      <td>0.000000</td>\n",
       "      <td>15.600000</td>\n",
       "      <td>8.300000</td>\n",
       "      <td>3.000000</td>\n",
       "    </tr>\n",
       "    <tr>\n",
       "      <th>75%</th>\n",
       "      <td>2.800000</td>\n",
       "      <td>22.200000</td>\n",
       "      <td>12.200000</td>\n",
       "      <td>4.000000</td>\n",
       "    </tr>\n",
       "    <tr>\n",
       "      <th>max</th>\n",
       "      <td>55.900000</td>\n",
       "      <td>35.600000</td>\n",
       "      <td>18.300000</td>\n",
       "      <td>9.500000</td>\n",
       "    </tr>\n",
       "  </tbody>\n",
       "</table>\n",
       "</div>"
      ],
      "text/plain": [
       "       precipitation     temp_max     temp_min         wind\n",
       "count    1461.000000  1461.000000  1461.000000  1461.000000\n",
       "mean        3.029432    16.439083     8.234771     3.241136\n",
       "std         6.680194     7.349758     5.023004     1.437825\n",
       "min         0.000000    -1.600000    -7.100000     0.400000\n",
       "25%         0.000000    10.600000     4.400000     2.200000\n",
       "50%         0.000000    15.600000     8.300000     3.000000\n",
       "75%         2.800000    22.200000    12.200000     4.000000\n",
       "max        55.900000    35.600000    18.300000     9.500000"
      ]
     },
     "execution_count": 5,
     "metadata": {},
     "output_type": "execute_result"
    }
   ],
   "source": [
    "df.describe()"
   ]
  },
  {
   "cell_type": "code",
   "execution_count": 6,
   "id": "e9199357",
   "metadata": {
    "execution": {
     "iopub.execute_input": "2022-01-17T18:28:24.986316Z",
     "iopub.status.busy": "2022-01-17T18:28:24.985541Z",
     "iopub.status.idle": "2022-01-17T18:28:25.001327Z",
     "shell.execute_reply": "2022-01-17T18:28:25.001911Z",
     "shell.execute_reply.started": "2022-01-17T18:26:29.075592Z"
    },
    "papermill": {
     "duration": 0.037571,
     "end_time": "2022-01-17T18:28:25.002095",
     "exception": false,
     "start_time": "2022-01-17T18:28:24.964524",
     "status": "completed"
    },
    "tags": []
   },
   "outputs": [
    {
     "name": "stdout",
     "output_type": "stream",
     "text": [
      "<class 'pandas.core.frame.DataFrame'>\n",
      "RangeIndex: 1461 entries, 0 to 1460\n",
      "Data columns (total 6 columns):\n",
      " #   Column         Non-Null Count  Dtype  \n",
      "---  ------         --------------  -----  \n",
      " 0   date           1461 non-null   object \n",
      " 1   precipitation  1461 non-null   float64\n",
      " 2   temp_max       1461 non-null   float64\n",
      " 3   temp_min       1461 non-null   float64\n",
      " 4   wind           1461 non-null   float64\n",
      " 5   weather        1461 non-null   object \n",
      "dtypes: float64(4), object(2)\n",
      "memory usage: 68.6+ KB\n"
     ]
    }
   ],
   "source": [
    "df.info()"
   ]
  },
  {
   "cell_type": "code",
   "execution_count": 7,
   "id": "7170b5b1",
   "metadata": {
    "execution": {
     "iopub.execute_input": "2022-01-17T18:28:25.042985Z",
     "iopub.status.busy": "2022-01-17T18:28:25.042234Z",
     "iopub.status.idle": "2022-01-17T18:28:25.050362Z",
     "shell.execute_reply": "2022-01-17T18:28:25.051172Z",
     "shell.execute_reply.started": "2022-01-17T18:26:29.270323Z"
    },
    "papermill": {
     "duration": 0.030259,
     "end_time": "2022-01-17T18:28:25.051393",
     "exception": false,
     "start_time": "2022-01-17T18:28:25.021134",
     "status": "completed"
    },
    "tags": []
   },
   "outputs": [
    {
     "data": {
      "text/plain": [
       "date             0\n",
       "precipitation    0\n",
       "temp_max         0\n",
       "temp_min         0\n",
       "wind             0\n",
       "weather          0\n",
       "dtype: int64"
      ]
     },
     "execution_count": 7,
     "metadata": {},
     "output_type": "execute_result"
    }
   ],
   "source": [
    "df.isnull().sum()"
   ]
  },
  {
   "cell_type": "markdown",
   "id": "c5033ab6",
   "metadata": {
    "papermill": {
     "duration": 0.01838,
     "end_time": "2022-01-17T18:28:25.089311",
     "exception": false,
     "start_time": "2022-01-17T18:28:25.070931",
     "status": "completed"
    },
    "tags": []
   },
   "source": [
    "There are no null values in the data set."
   ]
  },
  {
   "cell_type": "markdown",
   "id": "d7abbe40",
   "metadata": {
    "papermill": {
     "duration": 0.018787,
     "end_time": "2022-01-17T18:28:25.127355",
     "exception": false,
     "start_time": "2022-01-17T18:28:25.108568",
     "status": "completed"
    },
    "tags": []
   },
   "source": [
    "# Data Pre-Processing:\n",
    "The column weather contains the data value in the string form and we need to predict the weather data so for that we need to process the data."
   ]
  },
  {
   "cell_type": "code",
   "execution_count": 8,
   "id": "c9c58d80",
   "metadata": {
    "execution": {
     "iopub.execute_input": "2022-01-17T18:28:25.169436Z",
     "iopub.status.busy": "2022-01-17T18:28:25.168474Z",
     "iopub.status.idle": "2022-01-17T18:28:25.313363Z",
     "shell.execute_reply": "2022-01-17T18:28:25.312694Z",
     "shell.execute_reply.started": "2022-01-17T18:26:29.864666Z"
    },
    "papermill": {
     "duration": 0.167064,
     "end_time": "2022-01-17T18:28:25.313519",
     "exception": false,
     "start_time": "2022-01-17T18:28:25.146455",
     "status": "completed"
    },
    "tags": []
   },
   "outputs": [],
   "source": [
    "from sklearn.preprocessing import LabelEncoder\n",
    "\n",
    "df['weather']=LabelEncoder().fit_transform(df['weather'])"
   ]
  },
  {
   "cell_type": "markdown",
   "id": "d0e6fb39",
   "metadata": {
    "papermill": {
     "duration": 0.018578,
     "end_time": "2022-01-17T18:28:25.352428",
     "exception": false,
     "start_time": "2022-01-17T18:28:25.333850",
     "status": "completed"
    },
    "tags": []
   },
   "source": [
    "# Data Visualization:"
   ]
  },
  {
   "cell_type": "code",
   "execution_count": 9,
   "id": "6838e1f5",
   "metadata": {
    "execution": {
     "iopub.execute_input": "2022-01-17T18:28:25.399815Z",
     "iopub.status.busy": "2022-01-17T18:28:25.399116Z",
     "iopub.status.idle": "2022-01-17T18:28:25.720028Z",
     "shell.execute_reply": "2022-01-17T18:28:25.719453Z",
     "shell.execute_reply.started": "2022-01-17T18:26:30.270184Z"
    },
    "papermill": {
     "duration": 0.348987,
     "end_time": "2022-01-17T18:28:25.720179",
     "exception": false,
     "start_time": "2022-01-17T18:28:25.371192",
     "status": "completed"
    },
    "tags": []
   },
   "outputs": [
    {
     "data": {
      "text/plain": [
       "<AxesSubplot:>"
      ]
     },
     "execution_count": 9,
     "metadata": {},
     "output_type": "execute_result"
    },
    {
     "data": {
      "image/png": "[encoded data removed]",
      "text/plain": [
       "<Figure size 576x432 with 2 Axes>"
      ]
     },
     "metadata": {
      "needs_background": "light"
     },
     "output_type": "display_data"
    }
   ],
   "source": [
    "fig, axes=plt.subplots(figsize=(8, 6))\n",
    "sns.heatmap(df.corr(), ax=axes)"
   ]
  },
  {
   "cell_type": "markdown",
   "id": "b54b4bc5",
   "metadata": {
    "papermill": {
     "duration": 0.019975,
     "end_time": "2022-01-17T18:28:25.760945",
     "exception": false,
     "start_time": "2022-01-17T18:28:25.740970",
     "status": "completed"
    },
    "tags": []
   },
   "source": [
    "We can observe that wind and preception are weakly co-related.temp_max and wind are negatively correlated means they move in the opposite direction."
   ]
  },
  {
   "cell_type": "markdown",
   "id": "6199b721",
   "metadata": {
    "papermill": {
     "duration": 0.020226,
     "end_time": "2022-01-17T18:28:25.801083",
     "exception": false,
     "start_time": "2022-01-17T18:28:25.780857",
     "status": "completed"
    },
    "tags": []
   },
   "source": [
    "# Machine Learning Model for Prediction of Weather..."
   ]
  },
  {
   "cell_type": "code",
   "execution_count": 10,
   "id": "e03df9e9",
   "metadata": {
    "execution": {
     "iopub.execute_input": "2022-01-17T18:28:25.849813Z",
     "iopub.status.busy": "2022-01-17T18:28:25.849110Z",
     "iopub.status.idle": "2022-01-17T18:28:25.909728Z",
     "shell.execute_reply": "2022-01-17T18:28:25.910319Z",
     "shell.execute_reply.started": "2022-01-17T18:26:30.871953Z"
    },
    "papermill": {
     "duration": 0.087338,
     "end_time": "2022-01-17T18:28:25.910505",
     "exception": false,
     "start_time": "2022-01-17T18:28:25.823167",
     "status": "completed"
    },
    "tags": []
   },
   "outputs": [],
   "source": [
    "from sklearn.model_selection import train_test_split\n",
    "features=[\"precipitation\", \"temp_max\", \"temp_min\", \"wind\"]\n",
    "X=df[features]\n",
    "y=df.weather\n",
    "train_X, test_X, train_y, test_y = train_test_split(X, y,random_state = 0)"
   ]
  },
  {
   "cell_type": "markdown",
   "id": "3412f643",
   "metadata": {
    "papermill": {
     "duration": 0.020598,
     "end_time": "2022-01-17T18:28:25.952976",
     "exception": false,
     "start_time": "2022-01-17T18:28:25.932378",
     "status": "completed"
    },
    "tags": []
   },
   "source": [
    "# Decision Tree Regressor:"
   ]
  },
  {
   "cell_type": "code",
   "execution_count": 11,
   "id": "b6ada6af",
   "metadata": {
    "execution": {
     "iopub.execute_input": "2022-01-17T18:28:25.999213Z",
     "iopub.status.busy": "2022-01-17T18:28:25.998361Z",
     "iopub.status.idle": "2022-01-17T18:28:26.183378Z",
     "shell.execute_reply": "2022-01-17T18:28:26.183960Z",
     "shell.execute_reply.started": "2022-01-17T18:27:52.558428Z"
    },
    "papermill": {
     "duration": 0.211343,
     "end_time": "2022-01-17T18:28:26.184155",
     "exception": false,
     "start_time": "2022-01-17T18:28:25.972812",
     "status": "completed"
    },
    "tags": []
   },
   "outputs": [
    {
     "name": "stdout",
     "output_type": "stream",
     "text": [
      "Mean Absolute Error: 0.713115\n"
     ]
    }
   ],
   "source": [
    "from sklearn.tree import DecisionTreeRegressor\n",
    "from sklearn.metrics import mean_absolute_error\n",
    "\n",
    "model1=DecisionTreeRegressor(random_state=1)\n",
    "model1.fit(train_X, train_y)\n",
    "pred1=model1.predict(test_X)\n",
    "print(\"Mean Absolute Error: %f\" %(mean_absolute_error(test_y, pred1)))"
   ]
  },
  {
   "cell_type": "markdown",
   "id": "8cdfc40b",
   "metadata": {
    "papermill": {
     "duration": 0.020228,
     "end_time": "2022-01-17T18:28:26.224737",
     "exception": false,
     "start_time": "2022-01-17T18:28:26.204509",
     "status": "completed"
    },
    "tags": []
   },
   "source": [
    "# Random Forest Regressor:"
   ]
  },
  {
   "cell_type": "code",
   "execution_count": 12,
   "id": "8762a4b2",
   "metadata": {
    "execution": {
     "iopub.execute_input": "2022-01-17T18:28:26.271563Z",
     "iopub.status.busy": "2022-01-17T18:28:26.269644Z",
     "iopub.status.idle": "2022-01-17T18:28:26.603478Z",
     "shell.execute_reply": "2022-01-17T18:28:26.602952Z",
     "shell.execute_reply.started": "2022-01-17T18:27:54.071643Z"
    },
    "papermill": {
     "duration": 0.357538,
     "end_time": "2022-01-17T18:28:26.603623",
     "exception": false,
     "start_time": "2022-01-17T18:28:26.246085",
     "status": "completed"
    },
    "tags": []
   },
   "outputs": [
    {
     "name": "stdout",
     "output_type": "stream",
     "text": [
      "Mean Absolute Error: 0.694026\n"
     ]
    }
   ],
   "source": [
    "from sklearn.ensemble import RandomForestRegressor\n",
    "\n",
    "model2=RandomForestRegressor(random_state=1)\n",
    "model2.fit(train_X, train_y)\n",
    "pred2=model2.predict(test_X)\n",
    "print(\"Mean Absolute Error: %f\" %(mean_absolute_error(test_y, pred2)))\n",
    "    "
   ]
  },
  {
   "cell_type": "markdown",
   "id": "491907bf",
   "metadata": {
    "papermill": {
     "duration": 0.020355,
     "end_time": "2022-01-17T18:28:26.644903",
     "exception": false,
     "start_time": "2022-01-17T18:28:26.624548",
     "status": "completed"
    },
    "tags": []
   },
   "source": [
    "# Extreme Gradient Regressor:"
   ]
  },
  {
   "cell_type": "code",
   "execution_count": 13,
   "id": "6b4aa12e",
   "metadata": {
    "execution": {
     "iopub.execute_input": "2022-01-17T18:28:26.693123Z",
     "iopub.status.busy": "2022-01-17T18:28:26.692193Z",
     "iopub.status.idle": "2022-01-17T18:28:27.094277Z",
     "shell.execute_reply": "2022-01-17T18:28:27.094978Z",
     "shell.execute_reply.started": "2022-01-17T18:26:36.390565Z"
    },
    "papermill": {
     "duration": 0.429633,
     "end_time": "2022-01-17T18:28:27.095173",
     "exception": false,
     "start_time": "2022-01-17T18:28:26.665540",
     "status": "completed"
    },
    "tags": []
   },
   "outputs": [
    {
     "name": "stdout",
     "output_type": "stream",
     "text": [
      "Mean Absolute Error: 0.682803\n"
     ]
    }
   ],
   "source": [
    "from xgboost import XGBRegressor\n",
    "\n",
    "model3= XGBRegressor(n_estimators=100, learning_rate=0.04)\n",
    "model3.fit(train_X, train_y)\n",
    "pred3=model3.predict(test_X)\n",
    "print(\"Mean Absolute Error: %f\" %(mean_absolute_error(test_y, pred3)))"
   ]
  },
  {
   "cell_type": "markdown",
   "id": "3854c2ff",
   "metadata": {
    "papermill": {
     "duration": 0.020554,
     "end_time": "2022-01-17T18:28:27.138278",
     "exception": false,
     "start_time": "2022-01-17T18:28:27.117724",
     "status": "completed"
    },
    "tags": []
   },
   "source": [
    "The least mean absolute error we got is of the XGB Regressor Model. "
   ]
  }
 ],
 "metadata": {
  "kernelspec": {
   "display_name": "Python 3",
   "language": "python",
   "name": "python3"
  },
  "language_info": {
   "codemirror_mode": {
    "name": "ipython",
    "version": 3
   },
   "file_extension": ".py",
   "mimetype": "text/x-python",
   "name": "python",
   "nbconvert_exporter": "python",
   "pygments_lexer": "ipython3",
   "version": "3.7.12"
  },
  "papermill": {
   "default_parameters": {},
   "duration": 15.101768,
   "end_time": "2022-01-17T18:28:27.871289",
   "environment_variables": {},
   "exception": null,
   "input_path": "__notebook__.ipynb",
   "output_path": "__notebook__.ipynb",
   "parameters": {},
   "start_time": "2022-01-17T18:28:12.769521",
   "version": "2.3.3"
  }
 },
 "nbformat": 4,
 "nbformat_minor": 5
}
